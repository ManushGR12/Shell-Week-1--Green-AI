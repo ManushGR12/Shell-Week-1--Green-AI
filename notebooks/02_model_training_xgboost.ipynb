{
  "cells": [
    {
      "cell_type": "markdown",
      "metadata": {},
      "source": [
        "# XGBoost Model Training for Org Go Project\n",
        "This notebook trains an XGBoost model on the preprocessed Crop Recommendation dataset."
      ]
    },
    {
      "cell_type": "code",
      "execution_count": null,
      "metadata": {},
      "source": [
        "import pandas as pd\n",
        "import xgboost as xgb\n",
        "from sklearn.metrics import accuracy_score, classification_report\n",
        "import joblib\n",
        "\n",
        "# Load preprocessed data\n",
        "X_train = pd.read_csv('data/processed/X_train.csv', header=None)\n",
        "X_test = pd.read_csv('data/processed/X_test.csv', header=None)\n",
        "y_train = pd.read_csv('data/processed/y_train.csv', header=None)\n",
        "y_test = pd.read_csv('data/processed/y_test.csv', header=None)\n",
        "\n",
        "# Convert to DMatrix\n",
        "dtrain = xgb.DMatrix(X_train, label=y_train)\n",
        "dtest = xgb.DMatrix(X_test, label=y_test)\n",
        "\n",
        "# Set parameters\n",
        "params = {\n",
        "    'objective': 'multi:softmax',\n",
        "    'num_class': len(y_train[0].unique()),\n",
        "    'eval_metric': 'mlogloss',\n",
        "    'max_depth': 6,\n",
        "    'eta': 0.3\n",
        "}\n",
        "\n",
        "# Train model\n",
        "num_round = 100\n",
        "bst = xgb.train(params, dtrain, num_round)\n",
        "\n",
        "# Make predictions\n",
        "y_pred = bst.predict(dtest)\n",
        "\n",
        "# Evaluate\n",
        "accuracy = accuracy_score(y_test, y_pred)\n",
        "print(f'Accuracy: {accuracy:.4f}')\n",
        "print(classification_report(y_test, y_pred))\n",
        "\n",
        "# Save model\n",
        "bst.save_model('models/xgboost_crop_recommendation.model')\n",
        "print('Model saved!')"
      ]
    }
  ],
  "metadata": {
    "kernelspec": {
      "display_name": "Python 3",
      "language": "python",
      "name": "python3"
    },
    "language_info": {
      "name": "python",
      "version": "3.8.0"
    }
  },
  "nbformat": 4,
  "nbformat_minor": 5
}
